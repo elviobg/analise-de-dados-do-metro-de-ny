{
 "cells": [
  {
   "cell_type": "markdown",
   "metadata": {},
   "source": [
    "# Subway Data Analysis\n",
    "\n",
    "## Introduction\n",
    "\n",
    "O sistema de ônibus e trens de Nova Iorque - o Metro Transit Authority - fornece seus dados para download através de  arquivos csv. Uma das informações disponíveis são os dados das catracas do metrô que contém logs semanais de entradas cumulativas e saídas por catraca por estação de metrô em algum intervalo de tempo.\n",
    "\n",
    "\n",
    "Neste projeto iremos utilizar apenas os das catraca disponíveis em: http://web.mta.info/developers/turnstile.html.\n"
   ]
  },
  {
   "cell_type": "markdown",
   "metadata": {},
   "source": [
    "## Seção 1 - Coleta de Dados\n",
    "\n",
    "### *Exercicio 1.1*\n",
    "\n",
    "Mãos a obra!! \n",
    "Coletando os dados. \n",
    "Baixe os arquivos do mês de junho de 2017. O arquivo deverá ser salvo com o nome turnstile_100617.txt onde 10/06/17 é a data do arquivo."
   ]
  },
  {
   "cell_type": "code",
   "execution_count": 1,
   "metadata": {},
   "outputs": [
    {
     "name": "stdout",
     "output_type": "stream",
     "text": [
      "inicializando libs e variaveis\n"
     ]
    }
   ],
   "source": [
    "import urllib\n",
    "import re\n",
    "import os\n",
    "import sys\n",
    "from bs4 import BeautifulSoup\n",
    "import pandas as pd\n",
    "import datetime\n",
    "import numpy as np\n",
    "import matplotlib.pyplot as plt\n",
    "import os.path\n",
    "\n",
    "base_url = \"http://web.mta.info/developers/\"\n",
    "data_directory = \"data\"\n",
    "filenames = []\n",
    "master_file_path = data_directory + \"/master_file.txt\"\n",
    "mapper_path = \"data/mapper_result.txt\"\n",
    "reducer_path = \"data/reducer_result.txt\"\n",
    "\n",
    "print(\"inicializando libs e variaveis\")"
   ]
  },
  {
   "cell_type": "code",
   "execution_count": 6,
   "metadata": {},
   "outputs": [
    {
     "name": "stdout",
     "output_type": "stream",
     "text": [
      "Acessando o servidor de dados...\n",
      "Baixando os dados do servidor...\n",
      "baixando: data/nyct/turnstile/turnstile_170624.txt\n",
      "baixando: data/nyct/turnstile/turnstile_170617.txt\n",
      "baixando: data/nyct/turnstile/turnstile_170610.txt\n",
      "baixando: data/nyct/turnstile/turnstile_170603.txt\n",
      "download concluido\n",
      "['data/turnstile_170624.txt', 'data/turnstile_170617.txt', 'data/turnstile_170610.txt', 'data/turnstile_170603.txt']\n"
     ]
    }
   ],
   "source": [
    "print('Acessando o servidor de dados...')\n",
    "with urllib.request.urlopen(base_url + \"turnstile.html\") as url:\n",
    "    html = url.read()\n",
    "\n",
    "soup = BeautifulSoup(html, \"html.parser\")\n",
    "links = soup.find_all('a', href=re.compile(\"1706\"))\n",
    "\n",
    "if not os.path.exists(data_directory):\n",
    "    os.makedirs(data_directory)\n",
    "\n",
    "print(\"Baixando os dados do servidor...\")\n",
    "filenames = []\n",
    "for link in links:\n",
    "    link_url = link.get('href')\n",
    "    filename = link_url.split(\"/\")[-1]    \n",
    "    print('baixando:', link_url)\n",
    "    current_output_path = data_directory + \"/\" + filename\n",
    "    if not os.path.exists(current_output_path):\n",
    "        urllib.request.urlretrieve(base_url + link.get('href'), current_output_path)\n",
    "    filenames.append(data_directory + \"/\" + filename)    \n",
    "\n",
    "print(\"download concluido\")\n",
    "print(filenames)"
   ]
  },
  {
   "cell_type": "markdown",
   "metadata": {},
   "source": [
    "### *Exercicio 1.2*\n",
    "\n",
    "Escreva uma função que pegue a lista de nomes dos arquivos que você baixou no exercicio 1.1 e consolide-os em um único arquivo. Deve existir apenas uma linha de cabeçalho no arquivo de saida. \n",
    "\n",
    "Por exemplo, se o arquivo_1 tiver:\n",
    "linha 1...\n",
    "linha 2...\n",
    "\n",
    "e o outro arquivo, arquivo_2 tiver:\n",
    "linha 3...\n",
    "linha 4...\n",
    "linha 5...\n",
    "\n",
    "Devemos combinar o arquivo_1 com arquivo_2 em um arquivo mestre conforme abaixo:\n",
    "\n",
    "'C/A, UNIT, SCP, DATEn, TIMEn, DESCn, ENTRIESn, EXITSn'\n",
    "linha 1...\n",
    "linha 2...\n",
    "linha 3...\n",
    "linha 4...\n",
    "linha 5...\n"
   ]
  },
  {
   "cell_type": "code",
   "execution_count": 7,
   "metadata": {
    "scrolled": true
   },
   "outputs": [
    {
     "name": "stdout",
     "output_type": "stream",
     "text": [
      "processando data/turnstile_170624.txt...\n",
      "processando data/turnstile_170617.txt...\n",
      "processando data/turnstile_170610.txt...\n",
      "processando data/turnstile_170603.txt...\n",
      "mescla de arquivos terminada\n"
     ]
    }
   ],
   "source": [
    "def create_master_turnstile_file(filenames, output_file):\n",
    "    with open(output_file, 'w') as master_file:        \n",
    "        master_file.write('C/A,UNIT,SCP,STATION,LINENAME,DIVISION,DATEn,TIMEn,DESCn,ENTRIESn,EXITSn\\n')\n",
    "        for filename in filenames:            \n",
    "            \n",
    "            print(\"processando \" + filename + \"...\")\n",
    "            with open(filename) as infile:\n",
    "                infile.readline()\n",
    "                for line in infile:\n",
    "                    master_file.write(line)\n",
    "\n",
    "create_master_turnstile_file(filenames, master_file_path)\n",
    "print(\"mescla de arquivos terminada\")\n"
   ]
  },
  {
   "cell_type": "markdown",
   "metadata": {},
   "source": [
    "### *Exercicio 1.3*\n",
    "\n",
    "Neste exercício, escreva um função que leia o master_file criado no exercicio anterior e carregue-o em um pandas dataframe. Esta função deve filtrar para que o dataframe possua apenas linhas onde a coluna \"DESCn\" possua o valor \"Regular\".\n",
    "\n",
    "Por exemplo, se o data frame do pandas estiver conforme abaixo:\n",
    "    \n",
    "    ,C/A,UNIT,SCP,DATEn,TIMEn,DESCn,ENTRIESn,EXITSn\n",
    "    0,A002,R051,02-00-00,05-01-11,00:00:00,REGULAR,3144312,1088151\n",
    "    1,A002,R051,02-00-00,05-01-11,04:00:00,DOOR,3144335,1088159\n",
    "    2,A002,R051,02-00-00,05-01-11,08:00:00,REGULAR,3144353,1088177\n",
    "    3,A002,R051,02-00-00,05-01-11,12:00:00,DOOR,3144424,1088231\n",
    "\n",
    "O dataframe deverá ficar conforme abaixo depois de filtrar apenas as linhas onde a coluna DESCn possua o valor REGULAR:\n",
    "\n",
    "    0,A002,R051,02-00-00,05-01-11,00:00:00,REGULAR,3144312,1088151\n",
    "    2,A002,R051,02-00-00,05-01-11,08:00:00,REGULAR,3144353,1088177\n"
   ]
  },
  {
   "cell_type": "code",
   "execution_count": 11,
   "metadata": {},
   "outputs": [
    {
     "name": "stdout",
     "output_type": "stream",
     "text": [
      "    C/A  UNIT       SCP STATION LINENAME DIVISION       DATEn     TIMEn  \\\n",
      "0  A002  R051  02-00-00   59 ST  NQR456W      BMT  06/17/2017  00:00:00   \n",
      "1  A002  R051  02-00-00   59 ST  NQR456W      BMT  06/17/2017  04:00:00   \n",
      "2  A002  R051  02-00-00   59 ST  NQR456W      BMT  06/17/2017  08:00:00   \n",
      "3  A002  R051  02-00-00   59 ST  NQR456W      BMT  06/17/2017  12:00:00   \n",
      "4  A002  R051  02-00-00   59 ST  NQR456W      BMT  06/17/2017  16:00:00   \n",
      "\n",
      "     DESCn  ENTRIESn   EXITSn  \n",
      "0  REGULAR   6224816  2107317  \n",
      "1  REGULAR   6224850  2107322  \n",
      "2  REGULAR   6224885  2107352  \n",
      "3  REGULAR   6225005  2107452  \n",
      "4  REGULAR   6225248  2107513  \n"
     ]
    }
   ],
   "source": [
    "def filter_by_regular(data):\n",
    "    data = data[(data['DESCn'] == \"REGULAR\")]    \n",
    "    return data\n",
    "\n",
    "data = pd.read_csv(master_file_path, delimiter=\",\")\n",
    "data = filter_by_regular(data)\n",
    "print(data.head())"
   ]
  },
  {
   "cell_type": "markdown",
   "metadata": {},
   "source": [
    "### *Exercicio 1.4*\n",
    "\n",
    "\n",
    "Os dados do metrô de NY possui dados cumulativos de entradas e saidas por linha. Assuma que você possui um dataframe chamado df que contém apenas linhas para uma catraca em particular (unico SCP, C/A, e UNIT). A função abaixo deve alterar essas entradas cumulativas para a contagem de entradas desde a última leitura (entradas desde a última linha do dataframe).\n",
    "\n",
    "Mais especificamente, você deverá fazer duas coisas:\n",
    "\n",
    "1 - Criar uma nova coluna chamada ENTRIESn_hourly\n",
    "2 - Inserir nessa coluna a diferença enre ENTRIESn da coluna atual e a da coluna anterior. Se a linha possuir alguma NAN, preencha/substitua por 1.\n",
    "\n",
    "Dica: as funções do pandas shift() e fillna() pode ser úteis nesse exercicio.\n",
    "\n",
    "Abaixo tem um exemplo de como seu dataframe deve ficar ao final desse exercicio:\n",
    "\n",
    "        C/A  UNIT       SCP     DATEn     TIMEn    DESCn  ENTRIESn    EXITSn  ENTRIESn_hourly\n",
    "    0     A002  R051  02-00-00  05-01-11  00:00:00  REGULAR   3144312   1088151                1\n",
    "    1     A002  R051  02-00-00  05-01-11  04:00:00  REGULAR   3144335   1088159               23\n",
    "    2     A002  R051  02-00-00  05-01-11  08:00:00  REGULAR   3144353   1088177               18\n",
    "    3     A002  R051  02-00-00  05-01-11  12:00:00  REGULAR   3144424   1088231               71\n",
    "    4     A002  R051  02-00-00  05-01-11  16:00:00  REGULAR   3144594   1088275              170\n",
    "    5     A002  R051  02-00-00  05-01-11  20:00:00  REGULAR   3144808   1088317              214\n",
    "    6     A002  R051  02-00-00  05-02-11  00:00:00  REGULAR   3144895   1088328               87\n",
    "    7     A002  R051  02-00-00  05-02-11  04:00:00  REGULAR   3144905   1088331               10\n",
    "    8     A002  R051  02-00-00  05-02-11  08:00:00  REGULAR   3144941   1088420               36\n",
    "    9     A002  R051  02-00-00  05-02-11  12:00:00  REGULAR   3145094   1088753              153\n",
    "    10    A002  R051  02-00-00  05-02-11  16:00:00  REGULAR   3145337   1088823              243"
   ]
  },
  {
   "cell_type": "code",
   "execution_count": 13,
   "metadata": {},
   "outputs": [
    {
     "name": "stdout",
     "output_type": "stream",
     "text": [
      "    C/A  UNIT       SCP STATION LINENAME DIVISION       DATEn     TIMEn  \\\n",
      "0  A002  R051  02-00-00   59 ST  NQR456W      BMT  06/17/2017  00:00:00   \n",
      "1  A002  R051  02-00-00   59 ST  NQR456W      BMT  06/17/2017  04:00:00   \n",
      "2  A002  R051  02-00-00   59 ST  NQR456W      BMT  06/17/2017  08:00:00   \n",
      "3  A002  R051  02-00-00   59 ST  NQR456W      BMT  06/17/2017  12:00:00   \n",
      "4  A002  R051  02-00-00   59 ST  NQR456W      BMT  06/17/2017  16:00:00   \n",
      "\n",
      "     DESCn  ENTRIESn   EXITSn  ENTRIESn_hourly  \n",
      "0  REGULAR   6224816  2107317              1.0  \n",
      "1  REGULAR   6224850  2107322             34.0  \n",
      "2  REGULAR   6224885  2107352             35.0  \n",
      "3  REGULAR   6225005  2107452            120.0  \n",
      "4  REGULAR   6225248  2107513            243.0  \n"
     ]
    }
   ],
   "source": [
    "def get_hourly_entries(df):\n",
    "    \n",
    "    df['ENTRIESn_hourly'] = df['ENTRIESn'] - df['ENTRIESn'].shift(periods=1)\n",
    "    df[\"ENTRIESn_hourly\"].fillna(1, inplace=True)\n",
    "    return df\n",
    "\n",
    "data = get_hourly_entries(data)\n",
    "print(data.head())"
   ]
  },
  {
   "cell_type": "markdown",
   "metadata": {},
   "source": [
    "### *Exercicio 1.5*\n",
    "\n",
    "Faça o mesmo do exercicio anterior mas agora considerando as saidas, coluna EXITSn.\n",
    "Para isso crie uma coluna chamada de EXITSn_hourly e insira a diferença entre a coluna EXITSn da linha atual versus a linha anterior. Se tiver algum NaN, preencha/substitua por 0.\n",
    "\n"
   ]
  },
  {
   "cell_type": "code",
   "execution_count": 14,
   "metadata": {},
   "outputs": [
    {
     "name": "stdout",
     "output_type": "stream",
     "text": [
      "    C/A  UNIT       SCP STATION LINENAME DIVISION       DATEn     TIMEn  \\\n",
      "0  A002  R051  02-00-00   59 ST  NQR456W      BMT  06/17/2017  00:00:00   \n",
      "1  A002  R051  02-00-00   59 ST  NQR456W      BMT  06/17/2017  04:00:00   \n",
      "2  A002  R051  02-00-00   59 ST  NQR456W      BMT  06/17/2017  08:00:00   \n",
      "3  A002  R051  02-00-00   59 ST  NQR456W      BMT  06/17/2017  12:00:00   \n",
      "4  A002  R051  02-00-00   59 ST  NQR456W      BMT  06/17/2017  16:00:00   \n",
      "\n",
      "     DESCn  ENTRIESn   EXITSn  ENTRIESn_hourly  EXITSn_hourly  \n",
      "0  REGULAR   6224816  2107317              1.0            0.0  \n",
      "1  REGULAR   6224850  2107322             34.0            5.0  \n",
      "2  REGULAR   6224885  2107352             35.0           30.0  \n",
      "3  REGULAR   6225005  2107452            120.0          100.0  \n",
      "4  REGULAR   6225248  2107513            243.0           61.0  \n"
     ]
    }
   ],
   "source": [
    "def get_hourly_exits(df):\n",
    "        \n",
    "    df['EXITSn_hourly'] = df['EXITSn'] - df['EXITSn'].shift(periods=1)\n",
    "    df['EXITSn_hourly'].fillna(0, inplace=True)\n",
    "    return df\n",
    "\n",
    "data = get_hourly_exits(data)\n",
    "print(data.head())\n",
    "\n"
   ]
  },
  {
   "cell_type": "markdown",
   "metadata": {},
   "source": [
    "### *Exercicio 1.6*\n",
    "\n",
    "Dado uma variável de entrada que representa o tempo no formato de:\n",
    "     \"00:00:00\" (hora: minutos: segundos)\n",
    "    \n",
    "Escreva uma função para extrair a parte da hora do tempo variável de entrada\n",
    "E devolva-o como um número inteiro. Por exemplo:\n",
    "         \n",
    "         1) se a hora for 00, seu código deve retornar 0\n",
    "         2) se a hora for 01, seu código deve retornar 1\n",
    "         3) se a hora for 21, seu código deve retornar 21\n",
    "        \n",
    "Por favor, devolva a hora como um número inteiro.\n"
   ]
  },
  {
   "cell_type": "code",
   "execution_count": 42,
   "metadata": {},
   "outputs": [],
   "source": [
    "def time_to_hour(time):\n",
    "    \n",
    "    hour = int(time.split(\":\")[0])\n",
    "    return hour\n"
   ]
  },
  {
   "cell_type": "markdown",
   "metadata": {},
   "source": [
    "## Exercicio 2 - Análise dos dados\n",
    "\n",
    "### *Exercicio 2.1*\n",
    "\n",
    "Para verificar a relação entre o movimento do metrô e o clima, precisaremos complementar os dados do arquivo já baixado com os dados do clima.\n",
    "Nós complementamos para você este arquivo com os dados de clima de Nova Iorque  e disponibilizamos na área de materiais do projeto. Você pode acessa-lo pelo link: https://s3.amazonaws.com/content.udacity-data.com/courses/ud359/turnstile_data_master_with_weather.csv\n",
    "\n",
    "Agora que temos nossos dados em um arquivo csv, escreva um código python que leia este arquivo e salve-o em um data frame do pandas. \n",
    "\n",
    "Dica: \n",
    "\n",
    "Utilize o comando abaixo para ler o arquivo:\n",
    "\n",
    "```python\n",
    "pd.read_csv('output_list.txt', sep=\",\")\n",
    "```\n",
    "\n"
   ]
  },
  {
   "cell_type": "code",
   "execution_count": 15,
   "metadata": {},
   "outputs": [
    {
     "name": "stdout",
     "output_type": "stream",
     "text": [
      "baixando arquivos do tempo...\n",
      "download concluido\n",
      "   Unnamed: 0  UNIT       DATEn     TIMEn  Hour    DESCn  ENTRIESn_hourly  \\\n",
      "0           0  R001  2011-05-01  01:00:00     1  REGULAR              0.0   \n",
      "1           1  R001  2011-05-01  05:00:00     5  REGULAR            217.0   \n",
      "2           2  R001  2011-05-01  09:00:00     9  REGULAR            890.0   \n",
      "3           3  R001  2011-05-01  13:00:00    13  REGULAR           2451.0   \n",
      "4           4  R001  2011-05-01  17:00:00    17  REGULAR           4400.0   \n",
      "\n",
      "   EXITSn_hourly  maxpressurei  maxdewpti   ...     meandewpti  meanpressurei  \\\n",
      "0            0.0         30.31       42.0   ...           39.0          30.27   \n",
      "1          553.0         30.31       42.0   ...           39.0          30.27   \n",
      "2         1262.0         30.31       42.0   ...           39.0          30.27   \n",
      "3         3708.0         30.31       42.0   ...           39.0          30.27   \n",
      "4         2501.0         30.31       42.0   ...           39.0          30.27   \n",
      "\n",
      "   fog  rain  meanwindspdi  mintempi  meantempi  maxtempi  precipi  thunder  \n",
      "0  0.0   0.0           5.0      50.0       60.0      69.0      0.0      0.0  \n",
      "1  0.0   0.0           5.0      50.0       60.0      69.0      0.0      0.0  \n",
      "2  0.0   0.0           5.0      50.0       60.0      69.0      0.0      0.0  \n",
      "3  0.0   0.0           5.0      50.0       60.0      69.0      0.0      0.0  \n",
      "4  0.0   0.0           5.0      50.0       60.0      69.0      0.0      0.0  \n",
      "\n",
      "[5 rows x 22 columns]\n"
     ]
    }
   ],
   "source": [
    "print(\"baixando arquivos do tempo...\")\n",
    "weather_path = data_directory + \"/data_master_weather.csv\"\n",
    "if not os.path.exists(weather_path):\n",
    "    urllib.request.urlretrieve(\"https://s3.amazonaws.com/content.udacity-data.com/courses/ud359/turnstile_data_master_with_weather.csv\", weather_path) \n",
    "    \n",
    "print(\"download concluido\")\n",
    "\n",
    "weather_data = pd.read_csv(weather_path, sep=\",\")\n",
    "print(weather_data.head())"
   ]
  },
  {
   "cell_type": "markdown",
   "metadata": {},
   "source": [
    "### *Exercicio 2.2*\n",
    "\n",
    "Agora crie uma função que calcule a quantidade de dias chuvosos, para isso retorne a contagem do numero de dias onde a coluna *\"rain\"* é igual a 1.\n",
    "\n",
    "Dica: Você também pode achar que a interpretação de números como números inteiros ou float pode não\n",
    "     funcionar inicialmente. Para contornar esta questão, pode ser útil converter\n",
    "     esses números para números inteiros. Isso pode ser feito escrevendo cast (coluna como inteiro).\n",
    "     Então, por exemplo, se queríamos lançar a coluna maxtempi como um número inteiro, nós devemos\n",
    "     escrever algo como cast (maxtempi as integer) = 76, em oposição a simplesmente\n",
    "     onde maxtempi = 76."
   ]
  },
  {
   "cell_type": "code",
   "execution_count": 16,
   "metadata": {},
   "outputs": [
    {
     "name": "stdout",
     "output_type": "stream",
     "text": [
      "número de dias chuvosos: 10\n"
     ]
    }
   ],
   "source": [
    "def num_rainy_days(df):\n",
    "    rainDays = df.groupby(by=['rain', 'DATEn'])['rain'].count()\n",
    "    return rainDays[1.0].count()\n",
    "\n",
    "rainy_days = num_rainy_days(weather_data)\n",
    "print(\"número de dias chuvosos:\", rainy_days)"
   ]
  },
  {
   "cell_type": "markdown",
   "metadata": {},
   "source": [
    "### *Exercicio 2.3*\n",
    "\n",
    "Calcule se estava nebuloso ou não (0 ou 1) e a temperatura máxima para fog (isto é, a temperatura máxima \n",
    "     para dias nebulosos)."
   ]
  },
  {
   "cell_type": "code",
   "execution_count": 17,
   "metadata": {},
   "outputs": [
    {
     "name": "stdout",
     "output_type": "stream",
     "text": [
      "temperatura máxima em dias chuvosos: 81.0\n"
     ]
    }
   ],
   "source": [
    "def max_temp_aggregate_by_fog(df):\n",
    "        \n",
    "    maxTemp = df.groupby(by=['fog'])['maxtempi'].max()\n",
    "    return maxTemp[1.0]\n",
    "    \n",
    "max_temp_on_fog = max_temp_aggregate_by_fog(weather_data)\n",
    "print(\"temperatura máxima em dias chuvosos:\", max_temp_on_fog)"
   ]
  },
  {
   "cell_type": "markdown",
   "metadata": {},
   "source": [
    "### *Exercicio 2.4\n",
    "\n",
    "Calcule agora a média de 'meantempi' nos dias que são sábado ou domingo (finais de semana):"
   ]
  },
  {
   "cell_type": "code",
   "execution_count": 18,
   "metadata": {},
   "outputs": [
    {
     "name": "stdout",
     "output_type": "stream",
     "text": [
      "temperatura média nos fins de semana: 65.10066685403307\n"
     ]
    }
   ],
   "source": [
    "def avg_weekend_temperature(df):\n",
    "  \n",
    "    df['DATEn'] = pd.to_datetime(df['DATEn'])\n",
    "    meantempi = np.average(df[(df['DATEn'].dt.weekday >= 5)]['meantempi'])\n",
    "    return meantempi\n",
    "\n",
    "avg_temp_weekend = avg_weekend_temperature(weather_data)\n",
    "print(\"temperatura média nos fins de semana:\", avg_temp_weekend)"
   ]
  },
  {
   "cell_type": "markdown",
   "metadata": {},
   "source": [
    "### *Exercicio 2.5\n",
    "\n",
    "Calcule a média da temperatura mínima 'mintempi' nos dias chuvosos onde da temperatura mínima foi maior que do 55 graus:"
   ]
  },
  {
   "cell_type": "code",
   "execution_count": 19,
   "metadata": {},
   "outputs": [
    {
     "name": "stdout",
     "output_type": "stream",
     "text": [
      "temperatura minima em dias chuvosos com minimo de 55 graus: 61.238860398860396\n"
     ]
    }
   ],
   "source": [
    "def avg_min_temperature(df):\n",
    "    \n",
    "    avg_min_temp_rainy = np.average(df[(df['mintempi'] > 55) & (df['rain'] == 1.0)]['mintempi'])    \n",
    "    return avg_min_temp_rainy\n",
    "\n",
    "avg_min_temperature= avg_min_temperature(weather_data)\n",
    "print(\"temperatura minima em dias chuvosos com minimo de 55 graus:\", avg_min_temperature)"
   ]
  },
  {
   "cell_type": "markdown",
   "metadata": {},
   "source": [
    "### *Exercicio 2.6\n",
    "\n",
    "Antes de realizar qualquer análise, pode ser útil olhar para os dados que esperamos analisar. Mais especificamente, vamos examinR as entradas por hora em nossos dados do metrô de Nova York para determinar a distribuição dos dados. Estes dados são armazenados na coluna ['ENTRIESn_hourly'].\n",
    "    \n",
    "Trace dois histogramas nos mesmos eixos para mostrar as entradas quando esta chovendo vs quando não está chovendo. \n",
    "Abaixo está um exemplo sobre como traçar histogramas com pandas e matplotlib:\n",
    "     \n",
    "```python\n",
    "Turnstile_weather['column_to_graph'].Hist()\n",
    "```   \n",
    "    "
   ]
  },
  {
   "cell_type": "code",
   "execution_count": 20,
   "metadata": {},
   "outputs": [
    {
     "name": "stdout",
     "output_type": "stream",
     "text": [
      "<module 'matplotlib.pyplot' from 'C:\\\\ProgramData\\\\Anaconda3\\\\lib\\\\site-packages\\\\matplotlib\\\\pyplot.py'>\n"
     ]
    },
    {
     "data": {
      "image/png": "[encoded data removed]",
      "text/plain": [
       "<matplotlib.figure.Figure at 0x1ade1c7d6a0>"
      ]
     },
     "metadata": {},
     "output_type": "display_data"
    }
   ],
   "source": [
    "def entries_histogram(df):\n",
    "    \n",
    "    bins = 100\n",
    "    alpha = 0.5\n",
    "    xmin = 0\n",
    "    ymin = 0\n",
    "    xmax = 5000\n",
    "    ymax = 55000\n",
    "\n",
    "    plt.figure()\n",
    "\n",
    "    df['ENTRIESn_hourly'][df['rain'] == 0.0].hist(bins=bins, alpha=alpha, color=\"#EEAC7E\")\n",
    "    df['ENTRIESn_hourly'][df['rain'] == 1.0].hist(bins=bins, alpha=alpha, color=\"#7EC0EE\")\n",
    "\n",
    "    plt.axis([xmin, xmax, ymin, ymax])\n",
    "    plt.suptitle('Histograma de entradas por hora')\n",
    "    plt.xlabel('Entradas por hora')\n",
    "    plt.ylabel('Frequencia')\n",
    "    plt.legend(['Sem chuva', 'Com chuva'])\n",
    "\n",
    "    return plt\n",
    "\n",
    "entries_histogram(weather_data)\n",
    "print(plt)"
   ]
  },
  {
   "cell_type": "markdown",
   "metadata": {},
   "source": [
    "### *Exercicio 2.7\n",
    "\n",
    "Os dados que acabou de plotar que tipo de ditribuição? Existe diferença na distribuição entre dias chuvosos e não chuvosos?"
   ]
  },
  {
   "cell_type": "markdown",
   "metadata": {},
   "source": [
    "** Resposta **: Ambas as distribuições seguem o mesmo padrão, sendo as duas inclinadas ou seja, são assimétricas e em ambos os casos positivas.\n",
    "A diferença mais aparente a primeira vista é que em dias não chuvosos normalmente há maior número de pessoas utilizando o metrô em momentos de poucas entradas por hora, talvez sendo momentos já de pouco movimento e com agravante da chuva diminui bastante a ida ao metrô, nos demais momentos os histogramas seguem com diferença pouca em volume de dados."
   ]
  },
  {
   "cell_type": "markdown",
   "metadata": {},
   "source": [
    "### *Exercicio 2.8\n",
    "\n",
    "Construa uma função que que retorne:\n",
    "\n",
    "1. A média das entradas com chuva\n",
    "2. A média das entradas sem chuva\n",
    "\n",
    "\n"
   ]
  },
  {
   "cell_type": "code",
   "execution_count": 21,
   "metadata": {},
   "outputs": [
    {
     "name": "stdout",
     "output_type": "stream",
     "text": [
      "1090.278780151855 1105.4463767458733\n"
     ]
    }
   ],
   "source": [
    "def means(turnstile_weather):\n",
    "        \n",
    "    with_rain_mean = np.average(turnstile_weather['ENTRIESn_hourly'][turnstile_weather['rain'] == 0.0])\n",
    "    without_rain_mean = np.average(turnstile_weather['ENTRIESn_hourly'][turnstile_weather['rain'] == 1.0])\n",
    "    p = \"?\"\n",
    "    \n",
    "    print(with_rain_mean, without_rain_mean)\n",
    "    return with_rain_mean, without_rain_mean, p # leave this line for the grader #what is \"p\"?\n",
    "\n",
    "with_rain_mean, without_rain_mean, p = means(weather_data)"
   ]
  },
  {
   "cell_type": "markdown",
   "metadata": {},
   "source": [
    "Responda as perguntas abaixo de acordo com a saida das suas funções:\n",
    "\n",
    "1. Qual a média das entradas com chuva?\n",
    "2. Qual a média das entradas sem chuva?\n"
   ]
  },
  {
   "cell_type": "code",
   "execution_count": 12,
   "metadata": {
    "collapsed": true
   },
   "outputs": [
    {
     "name": "stdout",
     "output_type": "stream",
     "text": [
      "a média das entradas com chuva: 1090.278780151855\n"
     ]
    }
   ],
   "source": [
    "print(\"a média das entradas com chuva:\", with_rain_mean)"
   ]
  },
  {
   "cell_type": "code",
   "execution_count": 13,
   "metadata": {},
   "outputs": [
    {
     "name": "stdout",
     "output_type": "stream",
     "text": [
      "a média das entradas sem chuva: 1105.4463767458733\n"
     ]
    }
   ],
   "source": [
    "print(\"a média das entradas sem chuva:\", without_rain_mean)"
   ]
  },
  {
   "cell_type": "markdown",
   "metadata": {},
   "source": [
    "** Resposta **: As médias são 1090.27 e 1105.44 para dias com chuva e sem chuva respectivamente."
   ]
  },
  {
   "cell_type": "markdown",
   "metadata": {},
   "source": [
    "## Exercicio 3 - Map Reduce\n",
    "\n",
    "### *Exercicio 3.1*\n",
    "\n",
    "A entrada para esse exercício e o mesmo arquivo da seção anterior (Exercicio 2). Você pode baixar o arquivo neste link:\n",
    "\n",
    " https://s3.amazonaws.com/content.udacity-data.com/courses/ud359/turnstile_data_master_with_weather.csv\n",
    "\n",
    "Varmos criar um mapeador agora. Para cada linha de entrada, a saída do mapeador deve IMPRIMIR (não retornar) a UNIT como uma chave e o número de ENTRIESn_hourly como o valor. Separe a chave e o valor por uma guia. Por exemplo: 'R002 \\ t105105.0'\n",
    "\n",
    "Exporte seu mapeador em um arquivo chamado mapper_result.txt e envie esse arquivo juntamente com a sua submissão. O código para exportar seu mapeador já está escrito no código abaixo.\n",
    "\n",
    "\n"
   ]
  },
  {
   "cell_type": "code",
   "execution_count": 22,
   "metadata": {},
   "outputs": [],
   "source": [
    "def mapper():\n",
    "    sys.stdin.readline()\n",
    "    for line in sys.stdin:\n",
    "        # your code here\n",
    "        #print(line)\n",
    "        data = line.split(',')\n",
    "        unit = data[1]\n",
    "        entriesn_hourly = data[6]\n",
    "        print('{0}\\t{1}'.format(unit, entriesn_hourly))\n",
    "\n",
    "sys.stdin = open(weather_path)\n",
    "sys.stdout = open(mapper_path, 'w')\n",
    "mapper()"
   ]
  },
  {
   "cell_type": "code",
   "execution_count": null,
   "metadata": {},
   "outputs": [],
   "source": [
    "### *Exercicio 3.2*\n",
    "\n",
    "Agora crie o redutor. Dado o resultado do mapeador do exercicio anterior, o redutor deve imprimir(Não retornar) uma linha por UNIT, juntamente com o número total de ENTRIESn_hourly.Ao longo de maio (que é a duração dos nossos dados), separados por uma guia. Um exemplo de linha de saída do redutor pode ser assim: 'R001 \\ t500625.0'\n",
    "\n",
    "Você pode assumir que a entrada para o redutor está ordenada de tal forma que todas as linhas correspondentes a uma unidade particular são agrupados. No entanto a saida do redutor terá repetição pois existem lojas que aparecem em locais diferentes dos arquivos.\n",
    "\n",
    "Exporte seu redutor em um arquivo chamado reducer_result.txt e envie esse arquivo juntamente com a sua submissão."
   ]
  },
  {
   "cell_type": "code",
   "execution_count": 23,
   "metadata": {},
   "outputs": [],
   "source": [
    "def reducer():\n",
    "    \n",
    "    previousUnit = \"\"\n",
    "    currentUnit = \"\"\n",
    "    entriesCount = 0\n",
    "    \n",
    "    previousUnit, entriesCount = sys.stdin.readline().split('\\t')\n",
    "    entriesCount = float(entriesCount.rstrip())\n",
    "    \n",
    "    for line in sys.stdin:\n",
    "        currentUnit, entries = line.split('\\t')\n",
    "        entries = float(entries.rstrip())\n",
    "        \n",
    "        if currentUnit == previousUnit:\n",
    "            entriesCount += entries\n",
    "        else:\n",
    "            print('{0}\\t{1}'.format(previousUnit, entriesCount))\n",
    "            entriesCount = entries\n",
    "            \n",
    "        previousUnit = currentUnit\n",
    "    print('{0}\\t{1}'.format(previousUnit, entriesCount))\n",
    "    \n",
    "sys.stdin = open(mapper_path)\n",
    "sys.stdout = open(reducer_path, 'w')\n",
    "reducer()"
   ]
  },
  {
   "cell_type": "code",
   "execution_count": null,
   "metadata": {},
   "outputs": [],
   "source": []
  }
 ],
 "metadata": {
  "celltoolbar": "Edit Metadata",
  "kernelspec": {
   "display_name": "Python 3",
   "language": "python",
   "name": "python3"
  },
  "language_info": {
   "codemirror_mode": {
    "name": "ipython",
    "version": 3
   },
   "file_extension": ".py",
   "mimetype": "text/x-python",
   "name": "python",
   "nbconvert_exporter": "python",
   "pygments_lexer": "ipython3",
   "version": "3.6.4"
  }
 },
 "nbformat": 4,
 "nbformat_minor": 2
}
